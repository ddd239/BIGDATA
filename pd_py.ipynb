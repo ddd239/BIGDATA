{
  "nbformat": 4,
  "nbformat_minor": 0,
  "metadata": {
    "colab": {
      "provenance": [],
      "authorship_tag": "ABX9TyN/iTDRIx4uyBBBfB8Ev3w8",
      "include_colab_link": true
    },
    "kernelspec": {
      "name": "python3",
      "display_name": "Python 3"
    },
    "language_info": {
      "name": "python"
    }
  },
  "cells": [
    {
      "cell_type": "markdown",
      "metadata": {
        "id": "view-in-github",
        "colab_type": "text"
      },
      "source": [
        "<a href=\"https://colab.research.google.com/github/ddd239/BIGDATA/blob/main/pd_py.ipynb\" target=\"_parent\"><img src=\"https://colab.research.google.com/assets/colab-badge.svg\" alt=\"Open In Colab\"/></a>"
      ]
    },
    {
      "cell_type": "code",
      "execution_count": 1,
      "metadata": {
        "id": "1Yn-CrR8ZO_C"
      },
      "outputs": [],
      "source": [
        "import pandas as pd"
      ]
    },
    {
      "cell_type": "code",
      "source": [
        "from sklearn.preprocessing import MinMaxScaler\n",
        "import numpy as np\n",
        "\n",
        "train_array = np.arange(0,11).reshape(-1,1)\n",
        "test_array = np.arange(0,6).reshape(-1,1)\n",
        "\n",
        "scaler = MinMaxScaler()\n",
        "scaler.fit(train_array)\n",
        "train_scaled = scaler.transform(train_array)\n"
      ],
      "metadata": {
        "id": "ye8D43Iyc4mP"
      },
      "execution_count": null,
      "outputs": []
    },
    {
      "cell_type": "code",
      "source": [
        "housing_df['Age_0'] = 0\n",
        "print(housing_df.head(3))"
      ],
      "metadata": {
        "id": "n0b6N86x4Dar"
      },
      "execution_count": null,
      "outputs": []
    },
    {
      "cell_type": "code",
      "source": [
        "s = pd.Series([1,3,5,6,8])\n",
        "print(s)\n",
        "print(s.index)\n",
        "print(s.values)"
      ],
      "metadata": {
        "id": "QejQf7h2ZT5f"
      },
      "execution_count": null,
      "outputs": []
    },
    {
      "cell_type": "code",
      "source": [
        "v = [[1,2,3],[4,5,6],[7,8,9]]\n",
        "i = ['First','Second','Third']\n",
        "c = ['Columm1','Columm2','Columm3']\n",
        "\n",
        "df = pd.DataFrame(v, index=i, columns=c)\n",
        "print(df)"
      ],
      "metadata": {
        "id": "5rJqnjxlZqTm"
      },
      "execution_count": null,
      "outputs": []
    },
    {
      "cell_type": "code",
      "source": [
        "housing_df = pd.read_csv('/content/sample_data/california_housing_train.csv')\n",
        "print('housing variable type : ',type(housing_df))\n",
        "print(housing_df)"
      ],
      "metadata": {
        "id": "fCZCLNrmaSR5"
      },
      "execution_count": null,
      "outputs": []
    },
    {
      "cell_type": "code",
      "source": [
        "print('단일 컬럼 데이터 조회 : \\n',housing_df['housing_median_age'].head(3))\n",
        "print('\\n복수 컬럼 데이터 조회 : \\n',housing_df[['housing_median_age','total_rooms']].head(3))"
      ],
      "metadata": {
        "id": "J-jdOoRK-raZ"
      },
      "execution_count": null,
      "outputs": []
    },
    {
      "cell_type": "code",
      "source": [
        "print(housing_df[housing_df['housing_median_age'] == 30].head(3))"
      ],
      "metadata": {
        "id": "2SieIncRARyR"
      },
      "execution_count": null,
      "outputs": []
    },
    {
      "cell_type": "code",
      "source": [
        "housing_df['Age_by_10'] = housing_df['Age_by_10'] * 10\n",
        "print(housing_df.head(3))"
      ],
      "metadata": {
        "id": "sQMkpeq46vcQ"
      },
      "execution_count": null,
      "outputs": []
    },
    {
      "cell_type": "code",
      "source": [
        "value_counts = housing_df['Age_by_10'].value_counts()\n",
        "print(value_counts)"
      ],
      "metadata": {
        "id": "qyNxtgTc8unH"
      },
      "execution_count": null,
      "outputs": []
    },
    {
      "cell_type": "code",
      "source": [
        "housing_drop_df = housing_df.drop('Age_0',axis=1)\n",
        "print(housing_drop_df.head(3))"
      ],
      "metadata": {
        "id": "Iw5CEkYQ9JLx"
      },
      "execution_count": null,
      "outputs": []
    },
    {
      "cell_type": "code",
      "source": [
        "housing_df['Age_by_10'] = housing_df['housing_median_age'] //10\n",
        "print(housing_df.head(3))"
      ],
      "metadata": {
        "id": "rvpvzyBw8fup"
      },
      "execution_count": null,
      "outputs": []
    },
    {
      "cell_type": "code",
      "source": [
        "print(housing_df[\n",
        "    (housing_df['housing_median_age'] > 30) &\n",
        "    (housing_df['total_rooms'] < 100) &\n",
        "    (housing_df['median_income'] > 10)\n",
        "].head(3))"
      ],
      "metadata": {
        "id": "XbH8wvveArYu"
      },
      "execution_count": null,
      "outputs": []
    },
    {
      "cell_type": "code",
      "source": [
        "con1 = housing_df['housing_median_age'] > 30\n",
        "con2 = housing_df['total_rooms'] < 100\n",
        "con3 = housing_df['median_income'] > 10\n",
        "print(housing_df[con1 & con2 & con3].head(3))"
      ],
      "metadata": {
        "id": "F00fRb6EBYLM"
      },
      "execution_count": null,
      "outputs": []
    },
    {
      "cell_type": "code",
      "source": [
        "print(housing_df.iloc[0, 2])"
      ],
      "metadata": {
        "id": "a7v8Db6GCDqf"
      },
      "execution_count": null,
      "outputs": []
    },
    {
      "cell_type": "code",
      "source": [
        "print(housing_df.loc[0:4, 'housing_median_age'])"
      ],
      "metadata": {
        "id": "nE947QP6CczX"
      },
      "execution_count": null,
      "outputs": []
    },
    {
      "cell_type": "code",
      "source": [
        "housing_sorted = housing_df.sort_values(by=['housing_median_age', 'total_rooms'], ascending=False)\n",
        "print(housing_sorted.head(3))"
      ],
      "metadata": {
        "id": "MDxI7S04ul7j"
      },
      "execution_count": null,
      "outputs": []
    },
    {
      "cell_type": "code",
      "source": [
        "print(housing_df.sum() / housing_df.count())"
      ],
      "metadata": {
        "id": "0ejNloEyvqzc"
      },
      "execution_count": null,
      "outputs": []
    },
    {
      "cell_type": "code",
      "source": [
        "print(housing_df[['housing_median_age','total_rooms']].mean())"
      ],
      "metadata": {
        "id": "XJzX4BUHwmtx"
      },
      "execution_count": null,
      "outputs": []
    },
    {
      "cell_type": "code",
      "source": [
        "housing_groupby = housing_df.groupby('housing_median_age').mean()\n",
        "print(housing_groupby.head(3))"
      ],
      "metadata": {
        "id": "C6n_20B-xF2B"
      },
      "execution_count": null,
      "outputs": []
    },
    {
      "cell_type": "code",
      "source": [
        "housing_groupby = housing_df.groupby('housing_median_age')['total_rooms'].agg([min, max, sum])\n",
        "print(housing_groupby.head(3))"
      ],
      "metadata": {
        "id": "_g_JjbCmxndq"
      },
      "execution_count": null,
      "outputs": []
    },
    {
      "cell_type": "code",
      "source": [
        "import numpy as np\n",
        "\n",
        "housing_df['Age_na'] = np.nan\n",
        "print(housing_df.isna().head(3))"
      ],
      "metadata": {
        "id": "QHqTPceEyqnC"
      },
      "execution_count": null,
      "outputs": []
    },
    {
      "cell_type": "code",
      "source": [
        "print(housing_df.isna().sum())"
      ],
      "metadata": {
        "id": "An3t0-rczCkx"
      },
      "execution_count": null,
      "outputs": []
    },
    {
      "cell_type": "code",
      "source": [
        "housing_df['Age_na'] = housing_df['Age_na'].fillna(housing_df['housing_median_age'].mean())\n",
        "print(housing_df.head(3))"
      ],
      "metadata": {
        "id": "VKcH5xN6zbeL"
      },
      "execution_count": null,
      "outputs": []
    },
    {
      "cell_type": "code",
      "source": [
        "from sklearn.datasets import load_iris\n",
        "\n",
        "iris = load_iris()\n",
        "print('붓꽃 데이터세트 타입 : ',type(iris))\n",
        "keys = iris.keys()\n",
        "print('붓꽃 데이터세트 키', keys)"
      ],
      "metadata": {
        "id": "klcc4a4j0HPR"
      },
      "execution_count": null,
      "outputs": []
    },
    {
      "cell_type": "code",
      "source": [
        "print('feature_names : ')\n",
        "print(iris.feature_names)\n",
        "print('\\ntarget_names')\n",
        "print(iris.target_names)\n",
        "print('\\ndata : ')\n",
        "print(iris.data)\n",
        "print('\\ntarget : ')\n",
        "print(iris.target)"
      ],
      "metadata": {
        "id": "F5tBFSkA0-BJ"
      },
      "execution_count": null,
      "outputs": []
    },
    {
      "cell_type": "code",
      "source": [
        "from sklearn.preprocessing import LabelEncoder\n",
        "items = ['TV','냉장고','전자레인지','컴퓨터','TV','냉장고','컴퓨터','컴퓨터']\n",
        "encoder = LabelEncoder()\n",
        "encoder.fit(items)\n",
        "labels = encoder.transform(items)\n",
        "print('change : ',labels)\n",
        "print('class : ',encoder.classes_)"
      ],
      "metadata": {
        "id": "dlzY2GUoSi1S"
      },
      "execution_count": null,
      "outputs": []
    },
    {
      "cell_type": "code",
      "source": [
        "ori = encoder.inverse_transform([2,3,0,2,1,1])\n",
        "print('origin : ', ori)"
      ],
      "metadata": {
        "id": "V1YopaAfUgLm"
      },
      "execution_count": null,
      "outputs": []
    },
    {
      "cell_type": "code",
      "source": [
        "from sklearn.preprocessing import OneHotEncoder\n",
        "import numpy as np\n",
        "\n",
        "labels = labels.reshape(-1,1)\n",
        "oh_encoder = OneHotEncoder()\n",
        "oh_encoder.fit(labels)\n",
        "oh_labels = oh_encoder.transform(labels)\n",
        "print(oh_labels.toarray())\n",
        "print(oh_labels.shape)"
      ],
      "metadata": {
        "id": "eCjiyngNU2Gd"
      },
      "execution_count": null,
      "outputs": []
    },
    {
      "cell_type": "code",
      "source": [
        "item_df = pd.DataFrame({'item' : items})\n",
        "pd.get_dummies(item_df)"
      ],
      "metadata": {
        "id": "CzoJpyl3WEpt"
      },
      "execution_count": null,
      "outputs": []
    },
    {
      "cell_type": "code",
      "source": [
        "from sklearn.datasets import load_iris\n",
        "import pandas as pd\n",
        "\n",
        "iris = load_iris()\n",
        "iris_data = iris.data\n",
        "iris_df = pd.DataFrame(data=iris_data, columns=iris.feature_names)\n",
        "print(iris_df.mean())\n",
        "print(iris_df.var())"
      ],
      "metadata": {
        "id": "213MB6g7W7CT"
      },
      "execution_count": null,
      "outputs": []
    },
    {
      "cell_type": "code",
      "source": [
        "from sklearn.preprocessing import StandardScaler\n",
        "scaler = StandardScaler()\n",
        "scaler.fit(iris_df)\n",
        "iriscl = scaler.transform(iris_df)\n",
        "iris_df_sc = pd.DataFrame(data = iriscl, columns = iris.feature_names)\n",
        "print(iris_df_sc.mean())\n",
        "print(iris_df_sc.var())"
      ],
      "metadata": {
        "id": "5zNamu_cX6Oy"
      },
      "execution_count": null,
      "outputs": []
    },
    {
      "cell_type": "code",
      "source": [
        "from sklearn.preprocessing import MinMaxScaler\n",
        "scaler = MinMaxScaler()\n",
        "scaler.fit(iris_df)\n",
        "iris_scaled = scaler.transform(iris_df)\n",
        "iris_df_scaled = pd.DataFrame(data = iris_scaled, columns = iris.feature_names)\n",
        "print(iris_df_scaled.min())\n",
        "print(iris_df_scaled.max())"
      ],
      "metadata": {
        "id": "1V2PitvQZ68h"
      },
      "execution_count": null,
      "outputs": []
    },
    {
      "cell_type": "code",
      "source": [
        "from sklearn.preprocessing import MinMaxScaler\n",
        "import numpy as np\n",
        "\n",
        "train_array = np.arange(0,11).reshape(-1,1)\n",
        "test_array = np.arange(0,6).reshape(-1,1)\n",
        "\n",
        "scaler = MinMaxScaler()\n",
        "scaler.fit(train_array)\n",
        "train_scaled = scaler.transform(train_array)\n",
        "\n",
        "print(np.round(train_array.reshape(-1),2))\n",
        "print(np.round(train_scaled.reshape(-1),2))\n",
        "\n",
        "test_scaled = scaler.transform(test_array)\n",
        "\n",
        "print(np.round(test_array.reshape(-1),2))\n",
        "print(np.round(test_scaled.reshape(-1),2))"
      ],
      "metadata": {
        "id": "MTUtOEdF_qd9"
      },
      "execution_count": null,
      "outputs": []
    },
    {
      "cell_type": "code",
      "source": [
        "!git clone https://github.com/AnalyticsKnight/yemoonsaBigdata"
      ],
      "metadata": {
        "id": "DeaqBZNdBVMd"
      },
      "execution_count": null,
      "outputs": []
    },
    {
      "cell_type": "code",
      "source": [
        "import pandas as pd\n",
        "\n",
        "data = pd.read_csv(\"./yemoonsaBigdata/datasets/Part2/housing_data.csv\", header=None, sep=',')\n",
        "col_names = ['CRIM','ZN','INDUS','CHAS','NOX','RM','AGE','DIS','RAD','TAX','PTRATIO','B','LSTAT','MEDV','isHIighValue']\n",
        "data.columns = col_names"
      ],
      "metadata": {
        "id": "vQ_EWW_cB4nl"
      },
      "execution_count": 26,
      "outputs": []
    },
    {
      "cell_type": "code",
      "source": [
        "print(data.head())"
      ],
      "metadata": {
        "id": "K2WdB32iC6Or"
      },
      "execution_count": null,
      "outputs": []
    },
    {
      "cell_type": "code",
      "source": [
        "print(data.shape)"
      ],
      "metadata": {
        "id": "rhCOwbc2DeA7"
      },
      "execution_count": null,
      "outputs": []
    },
    {
      "cell_type": "code",
      "source": [
        "print(data.info())"
      ],
      "metadata": {
        "id": "Sj9PsloVH49p"
      },
      "execution_count": null,
      "outputs": []
    },
    {
      "cell_type": "code",
      "source": [
        "print(data.describe())"
      ],
      "metadata": {
        "id": "oIzWPUvoIRAx"
      },
      "execution_count": null,
      "outputs": []
    },
    {
      "cell_type": "code",
      "source": [
        "print(data.isnull().sum())"
      ],
      "metadata": {
        "id": "lD_otcLTIvIZ"
      },
      "execution_count": null,
      "outputs": []
    },
    {
      "cell_type": "code",
      "source": [
        "print(data.isnull().sum()/data.shape[0])"
      ],
      "metadata": {
        "id": "gRku0602JGA4"
      },
      "execution_count": null,
      "outputs": []
    },
    {
      "cell_type": "code",
      "source": [
        "data1 = data.copy()\n",
        "med_val = data['CRIM'].median()\n",
        "data1['CRIM'] = data1['CRIM'].fillna(med_val)"
      ],
      "metadata": {
        "id": "8fr__f7ZJgy5"
      },
      "execution_count": 34,
      "outputs": []
    },
    {
      "cell_type": "code",
      "source": [
        "data = data.loc[data['CRIM'].notnull(), ]\n",
        "print(data.describe())"
      ],
      "metadata": {
        "id": "iVlXnngsJxu7"
      },
      "execution_count": null,
      "outputs": []
    },
    {
      "cell_type": "code",
      "source": [
        "import seaborn as sns\n",
        "\n",
        "sns.boxplot(data['MEDV'])"
      ],
      "metadata": {
        "id": "0Lo2G3JvKMWq"
      },
      "execution_count": null,
      "outputs": []
    }
  ]
}